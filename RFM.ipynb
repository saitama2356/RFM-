{
  "cells": [
    {
      "cell_type": "code",
      "execution_count": null,
      "metadata": {
        "id": "zwFnJsE6vjf8"
      },
      "outputs": [],
      "source": []
    },
    {
      "cell_type": "code",
      "source": [
        "CREATE DATABASE DRM_Project;\n",
        "USE drm_project;\n",
        "create table rfm_calculation as\n",
        "WITH RFM_Data as (\n",
        "    SELECT\n",
        "        cr.id,\n",
        "        DATEDIFF('2022-09-01', MAX(SK_TR_TO_DATE(t.purchase_date, '%m/%d/%Y'))) AS recency,\n",
        "        ROUND(1.00 * COUNT(t.purchase_date) / (DATEDIFF('2022-09-01', STR_TO_DATE(cr.created_date, '%m/%d/%Y'))/365), 2) AS frequency,\n",
        "        ROUND(1.00 * SUM(t.ctv) / (DATEDIFF('2022-09-01', STR_TO_DATE(cr.created_date, '%m/%d/%Y'))/365), 0) AS monetary,\n",
        "        FROM drm_project.customer_registered cr\n",
        "        LEFT JOIN drm_project.customer_transaction ct ON ct.customerid = cr.id\n",
        "    GROUP BY cr.id\n",
        ")\n",
        "select * ,\n",
        "    row_number() OVER (order by recency) as rn_recency,\n",
        "    row_number() OVER (order by frequency) as rn_frequency,\n",
        "    row_number() OVER (order by monetary) as rn_monetary\n",
        "from RFM_Data;\n",
        "use drm_project;\n",
        "create table rfm_final as\n",
        "WITH RFM_Segments as (SELECT\n",
        "    *,\n",
        "    CASE\n",
        "        WHEN recency <= (select round(count(customerID) * 0.25, 0) from drm_project.rfm_calculation) then 1\n",
        "        WHEN recency <= (select round(count(customerID) * 0.50, 0) from drm_project.rfm_calculation) then 2\n",
        "        WHEN recency <= (select round(count(customerID) * 0.75, 0) from drm_project.rfm_calculation) then 3\n",
        "        ELSE 4 as rn_recency\n",
        "    END as rn_recency,\n",
        "    CASE\n",
        "        WHEN frequency > (select round(count(customerID) * 0.75, 0) from drm_project.rfm_calculation) then 1\n",
        "        WHEN frequency > (select round(count(customerID) * 0.50, 0) from drm_project.rfm_calculation) then 2\n",
        "        WHEN frequency > (select round(count(customerID) * 0.25, 0) from drm_project.rfm_calculation) then 3\n",
        "        ELSE 4 as rn_frequency\n",
        "    END as rn_frequency,\n",
        "    CASE\n",
        "        WHEN monetary > (select round(count(customerID) * 0.75, 0) from drm_project.rfm_calculation) then 1\n",
        "        WHEN monetary > (select round(count(customerID) * 0.50, 0) from drm_project.rfm_calculation) then 2\n",
        "        WHEN monetary > (select round(count(customerID) * 0.25, 0) from drm_project.rfm_calculation) then 3\n",
        "        ELSE 4 as rn_monetary\n",
        "    END as rn_monetary\n",
        "FROM drm_project.rfm_calculation)\n",
        "select *,\n",
        "    CASE\n",
        "        WHEN rn_r = 1 AND rn_f = 3 AND rn_m = 4 THEN 'Best'\n",
        "        WHEN rn_r IN (2,3) AND rn_f IN (3,4) AND rn_m IN (4,5) THEN 'Loyal'\n",
        "        WHEN rn_r IN (3,4) AND rn_f IN (1,2) AND rn_m IN (2,3) THEN 'Promising'\n",
        "        WHEN rn_r IN (4,5) AND rn_f IN (1,2) AND rn_m IN (1,2) THEN 'At Risk'\n",
        "        ELSE 'Other' as RFM_Matrix\n",
        "    from drm_project.rfm_final;\n"
      ],
      "metadata": {
        "colab": {
          "base_uri": "https://localhost:8080/",
          "height": 110
        },
        "id": "DFH6lqCai5FH",
        "outputId": "d9fd00fb-6ff7-4e26-f373-6fcddaaee8d2"
      },
      "execution_count": 1,
      "outputs": [
        {
          "output_type": "error",
          "ename": "SyntaxError",
          "evalue": "invalid syntax (<ipython-input-1-902cde3ac427>, line 1)",
          "traceback": [
            "\u001b[0;36m  File \u001b[0;32m\"<ipython-input-1-902cde3ac427>\"\u001b[0;36m, line \u001b[0;32m1\u001b[0m\n\u001b[0;31m    CREATE DATABASE DRM_Project;\u001b[0m\n\u001b[0m           ^\u001b[0m\n\u001b[0;31mSyntaxError\u001b[0m\u001b[0;31m:\u001b[0m invalid syntax\n"
          ]
        }
      ]
    }
  ],
  "metadata": {
    "colab": {
      "name": "Colaboratory chào mừng bạn!",
      "provenance": []
    },
    "kernelspec": {
      "display_name": "Python 3",
      "name": "python3"
    }
  },
  "nbformat": 4,
  "nbformat_minor": 0
}